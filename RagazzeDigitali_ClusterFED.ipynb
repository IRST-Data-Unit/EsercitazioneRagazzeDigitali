{
  "nbformat": 4,
  "nbformat_minor": 0,
  "metadata": {
    "colab": {
      "provenance": []
    },
    "kernelspec": {
      "name": "python3",
      "display_name": "Python 3"
    },
    "language_info": {
      "name": "python"
    }
  },
  "cells": [
    {
      "cell_type": "markdown",
      "source": [
        "# 🎀 **Irst incontra Ragazze Digitali** 🎀\n",
        "## Esercitazione:\n",
        "\n",
        "### Glossario\n",
        "- *Burden Of Travel* : sfide, alle responsabilità o alle difficoltà che individui o gruppi possono affrontare quando intraprendono un viaggio o si spostano da un luogo all'altro. Questo onere può comprendere una serie di fattori, tra cui le sfide logistiche, i costi finanziari, lo sforzo fisico, lo stress emotivo associato al viaggio, l'impatto ambientale.\n",
        "\n",
        "- *Latitudine e longitudine*: sono le coordinate principali che si servono di quelle linee immaginarie chiamate meridiani e paralleli che sono usate dai geografi per \"tagliare in porzioni\" lo spazio della superficie terrestre.\n",
        "\n",
        "### Obiettivo ✳\n",
        "Analisi del numero ottimale di punti erogativi per la distribuzione di farmaci orali oncologici allo scopo di ridurre e omogeneizzare il burden of travel per il paziente.\n",
        "\n",
        "\n",
        "### Caratteristiche analisi\n",
        "- Anni di analisi: 2019-2020-2021\n",
        "- Tutti i farmaci orali per terapie oncologiche\n",
        "- Punti di erogazione romagnoli\n",
        "\n",
        "### Variabli coinvolte\n",
        "- Comune (Nome del comune romagnolo in analisi)\n",
        "- Latitudine ( Latitudine del comune per rappresentazione)\n",
        "- Longitudine (Longitudine del comune per rappresentazione)\n",
        "- Accessi (Numero di accessi - volte che hanno ritirato il farmaco )\n",
        "- Popolazione ( numero di abitanti del comune di riferimento)"
      ],
      "metadata": {
        "id": "qDO8rEqca7f0"
      }
    },
    {
      "cell_type": "markdown",
      "source": [
        " ### 1 -  Import delle librerie e pacchetti utili per la compilzione del codice"
      ],
      "metadata": {
        "id": "ljlnmKOhkU9w"
      }
    },
    {
      "cell_type": "code",
      "source": [
        "import pandas as pd                               # For data management\n",
        "import numpy as np                                # For data management\n",
        "import pandas as pd                               # For data management\n",
        "import seaborn as sns                             # For data visualization and specifically for pairplot()\n",
        "import matplotlib.pyplot as plt                   # For data visualization\n",
        "from sklearn import datasets                      # To import the sample dataset\n",
        "from sklearn.preprocessing import StandardScaler  # To transform the dataset\n",
        "from sklearn.cluster import KMeans                # To instantiate, train and use model\n",
        "from sklearn import metrics                       # For Model Evaluation\n",
        "import matplotlib.pyplot as plt                   # For data visualization\n",
        "from geopy.geocoders import Nominatim             # For geography data management\n",
        "import geopy.distance                             # For geography data management\n",
        "import random                                     # For generation of random number\n",
        "from PIL import Image, ImageDraw                  # For generation of image\n",
        "from operator import index\n",
        "import itertools\n",
        "import matplotlib.animation as animation\n",
        "import collections\n",
        "geolocator = Nominatim(user_agent=\"rd\")\n",
        "import warnings\n",
        "warnings.filterwarnings('ignore')\n",
        "!pip install pydeck\n",
        "import pydeck as pdk\n",
        "import math"
      ],
      "metadata": {
        "id": "mp6_vw1TkUKE"
      },
      "execution_count": null,
      "outputs": []
    },
    {
      "cell_type": "markdown",
      "source": [
        "### 2 - Scaricamento di un repository dell'esercitazione per scaricare i dati utili per l'analisi"
      ],
      "metadata": {
        "id": "YgOKtC3a-3Z1"
      }
    },
    {
      "cell_type": "code",
      "source": [
        "!git clone https://github.com/IRST-Data-Unit/EsercitazioneRagazzeDigitali/"
      ],
      "metadata": {
        "id": "YJyM6Rvckb6E"
      },
      "execution_count": null,
      "outputs": []
    },
    {
      "cell_type": "markdown",
      "source": [
        "### 3 - Pulizia del dato. Colonne latitudine e longitude"
      ],
      "metadata": {
        "id": "YwrjxdqY_DhH"
      }
    },
    {
      "cell_type": "code",
      "source": [
        "path = '/content/EsercitazioneRagazzeDigitali/fed.csv'\n",
        "dataframe_raw = pd.read_csv(path, sep=',')\n",
        "# Conversione colonne riconosciute come stringhe in numeri float per poterli utilizzare\n",
        "#dataframe_raw['Latitudine'] = pd.to_numeric(dataframe_raw['Latitudine'].str.replace(',','.'))\n",
        "#dataframe_raw['Longitudine'] = pd.to_numeric(dataframe_raw['Longitudine'].str.replace(',','.'))"
      ],
      "metadata": {
        "id": "aGaMdWLekgfL"
      },
      "execution_count": 4,
      "outputs": []
    },
    {
      "cell_type": "markdown",
      "source": [
        "### 4 - Stampa del dataset (nome delle variabili e dei valori che assumono)"
      ],
      "metadata": {
        "id": "1n6KYc9-_RAX"
      }
    },
    {
      "cell_type": "code",
      "source": [
        "dataframe_raw"
      ],
      "metadata": {
        "id": "G8MqWhEHkiJj"
      },
      "execution_count": null,
      "outputs": []
    },
    {
      "cell_type": "markdown",
      "source": [
        "### 5 - Obiettivo esercitazione"
      ],
      "metadata": {
        "id": "0Xgeic0y_sF8"
      }
    },
    {
      "cell_type": "markdown",
      "source": [
        "Ipoteticamente vorremmo **minimizzare** il numero di punti erogativi per risparmiare sui costi di strutture in eccesso e **minimizzare** però il numero di chilometri che ogni paziente deve percorrere per ottenere il farmaco.\n",
        "\n",
        "#### Limiti del lavoro\n",
        "- Useremo per semplicità per valutare i punti erogativi migliori la distanza euclidea cioè quella che intercorre tra 2 punti in uno spazio X e Y, ma nella realtà sarebbe opportuno utilizzare una distanza geografica (chilometri/metri) o il tempo di viaggio che è strettamente legato alla conformità e caratteristiche del territorio e disponbilità di mezzi; ma anche dalle abitudini dei pazienti negli spostamenti.\n",
        "- Non si considera in analisi l'aspetto epidemiologico, la frequenza di dosaggio, le nuove molecole\n",
        "- Ci si basa su un database regionale che non è completo di tutti gli aspetti.\n",
        "\n",
        "Consideriamo perciò questa esercitazione come \"gioco\".\n"
      ],
      "metadata": {
        "id": "2qnQktHq_x08"
      }
    },
    {
      "cell_type": "markdown",
      "source": [
        "### 6 -  Inizio codice esercitazione\n",
        "\n",
        "---\n",
        "\n",
        "Inizializzazione variabili utili e variabili fisse come latitudine e longitude delle città \"fisse\" e più ampie."
      ],
      "metadata": {
        "id": "0Cb00Uz8_Xpu"
      }
    },
    {
      "cell_type": "code",
      "source": [
        "color_array=[]\n",
        "lat_array =[]\n",
        "lon_array=[]\n",
        "xc_array=[]\n",
        "yc_array=[]\n",
        "city_c_array=[]\n",
        "dist_array = []\n",
        "label_array= []\n",
        "pop_com_array = []\n",
        "#Forlì, Cesena, Ravenna, Rimini\n",
        "#Longitudini\n",
        "y_fixed =[12.0537,12.249722,12.1965711,12.580833]\n",
        "#Latitudini\n",
        "x_fixed =[44.2228,44.143333,44.4157307,44.063333]\n",
        "statistisc = pd.DataFrame()\n",
        "\n",
        "# Qui possiamo impostare il numero di cluster\n",
        "k = 2"
      ],
      "metadata": {
        "id": "ChYuNETIkkOE"
      },
      "execution_count": 6,
      "outputs": []
    },
    {
      "cell_type": "markdown",
      "source": [
        "### 7 -  Applicazione algoritmo K-Means"
      ],
      "metadata": {
        "id": "Vbo2-anqRRtF"
      }
    },
    {
      "cell_type": "markdown",
      "source": [
        "## sklearn.cluster.KMeans\n",
        "`class sklearn.cluster.KMeans(n_clusters=8, *, init='k-means++', n_init='warn', max_iter=300, tol=0.0001, verbose=0, random_state=None, copy_x=True, algorithm='lloyd')[source]`\n"
      ],
      "metadata": {
        "id": "cmtxKXAvSITc"
      }
    },
    {
      "cell_type": "code",
      "source": [
        "dataframe = dataframe_raw[['Latitudine','Longitudine']] #Selezione delle due variabili che rappresentano l'ambiente\n",
        "kmeans_model = KMeans(n_clusters = k)  #Creazione del modello di K-Means con k il num di cluster scelti\n",
        "weight = dataframe_raw['# Accessi'] # Minimizzazione della distanza pesata per numero di Accessi\n",
        "kmeans_model.fit(dataframe,sample_weight=weight) # Applicazione del modello sui dati\n",
        "centroids = kmeans_model.cluster_centers_ #Salvataggio punti centroidi\n",
        "dataframe[\"cluster\"] = kmeans_model.labels_ #Salvataggio etichette dei centroidi ai punti"
      ],
      "metadata": {
        "id": "lFiUjGiORapb"
      },
      "execution_count": 7,
      "outputs": []
    },
    {
      "cell_type": "markdown",
      "source": [
        "### 8 - Ricognizione punti individuati con comune in cui si trovano e creazione delle statistiche"
      ],
      "metadata": {
        "id": "YnRuW-moSS8C"
      }
    },
    {
      "cell_type": "code",
      "source": [
        "df_cluster = pd.DataFrame(columns=['long','lat','city'])\n",
        "for p in centroids:\n",
        "  c= ''\n",
        "  location = geolocator.reverse(str(p[0])+\",\"+str(p[1]))\n",
        "  address = location.raw['address']\n",
        "  city = address.get('city', '')\n",
        "  town = address.get('town', '')\n",
        "  state = address.get('state', '')\n",
        "  country = address.get('country', '')\n",
        "  village =address.get('village', '')\n",
        "  county = address.get('county', '')\n",
        "  neighbourhood = address.get('neighbourhood', '')\n",
        "  province = address.get('province', '')\n",
        "  suburb = address.get('suburb', '')\n",
        "  c='City:' +(town or city  or county) +'|'+'SubUrb:'+ ( village or neighbourhood or suburb or '-')+'|'+'Province:' + (province or '-').strip()\n",
        "  new_row = {'long':p[1],'lat':p[0],'city':c}\n",
        "  df_cluster = df_cluster.append(new_row,ignore_index=True)\n",
        "\n",
        "dataframe[\"Comune\"] = dataframe_raw['Comune']\n",
        "dataframe[\"city_cluster\"] = \" \"\n",
        "dataframe[\"latc\"] = \" \"\n",
        "dataframe[\"lonc\"] = \" \"\n",
        "dataframe[\"dist\"] = \" \"\n",
        "dataframe[\"coordinates\"] = \" \"\n",
        "dataframe[\"accessi\"] = dataframe_raw['# Accessi']\n",
        "for i in range (0,k):\n",
        "  dataframe.loc[dataframe['cluster'] == i, 'city_cluster'] = df_cluster['city'][i]\n",
        "  dataframe.loc[dataframe['cluster'] == i, 'latc'] = df_cluster['lat'][i]\n",
        "  dataframe.loc[dataframe['cluster'] == i, 'lonc'] = df_cluster['long'][i]\n",
        "for index in range(len(dataframe)):\n",
        "  tupla_origin = (float(dataframe['Longitudine'][index]),float(dataframe['Latitudine'][index]))\n",
        "  tupla_fin = (float(dataframe['lonc'][index]),float(dataframe['latc'][index]))\n",
        "  dataframe['dist'][index] = geopy.distance.geodesic(tupla_origin, tupla_fin).km\n",
        "\n",
        "#Valutazione distanza tra ogni punto del cluster trovato e distanza.\n",
        "\n",
        "colors  = []\n",
        "color_dict = {}\n",
        "for c in range(0,k):\n",
        "  r = lambda: random.randint(0,255)\n",
        "  colors.append('#%02X%02X%02X' % (r(),r(),r()))\n",
        "  color_dict[c] = colors[c]\n",
        "  for c in range(0,k):\n",
        "    dataframe['color']=dataframe['cluster'].map(color_dict)\n",
        "\n",
        "acc = dataframe_raw['# Accessi']\n",
        "color_array.append(dataframe['color'])\n",
        "lat_array.append(dataframe['Latitudine'])\n",
        "lon_array.append(dataframe['Longitudine'])\n",
        "xc_array.append(df_cluster['lat'])\n",
        "yc_array.append(df_cluster['long'])\n",
        "city_c_array.append(df_cluster['city'])\n",
        "dist_array.append(dataframe['dist'])\n",
        "\n",
        "# Salvataggio massima e minima distanza tra ogni cluster trovato e punti che gli appartengono.\n",
        "statistisc['city'] = df_cluster['city']\n",
        "statistisc['max_dist_intraclu'] = dataframe.groupby('cluster')['dist'].apply(lambda x: x.max()).reset_index(name='count')['count']\n",
        "statistisc['min_dist_intraclu'] = dataframe.groupby('cluster')['dist'].apply(lambda x: x.min()).reset_index(name='count')['count']\n",
        "\n",
        "label_array.append(np.array(dataframe['cluster']))"
      ],
      "metadata": {
        "id": "B1CNDhqKkqyj"
      },
      "execution_count": 8,
      "outputs": []
    },
    {
      "cell_type": "code",
      "source": [
        "#Stampa delle statistiche\n",
        "#Tutte le distanza massima e minime tra centroide del punto individuato e i punti appartenenti\n",
        "statistisc"
      ],
      "metadata": {
        "id": "bc7Qh7vBQsvV"
      },
      "execution_count": null,
      "outputs": []
    },
    {
      "cell_type": "markdown",
      "source": [
        "### 9 -  Visualizzazione  della distribuzione del numero di centroidi individuati"
      ],
      "metadata": {
        "id": "PpqKN9sJl1HV"
      }
    },
    {
      "cell_type": "code",
      "source": [
        "#Costruiamo la figura con i punti indivuati, i punti fissi e la grandezza delle bolle dipende dal numero di accessi effettuati\n",
        "fig, ax = plt.subplots(figsize=(8,8))\n",
        "ax.clear()\n",
        "ax.set_title('Distribuition with k= {}'.format(k),\n",
        "              fontdict={'fontsize':20})\n",
        "# replot things\n",
        "ax.scatter(x = lon_array, y = lat_array, s=acc,\n",
        "            c=color_array[0], alpha=0.4)\n",
        "#Centroids\n",
        "ax.scatter(yc_array, xc_array, c='red',\n",
        "            s=400,marker='h',label='Centroid')\n",
        "#Fixed city\n",
        "ax.scatter(y_fixed, x_fixed, c='black', s=200,\n",
        "            alpha=0.8,marker='s',label='fixed')\n",
        "#Disegnamo i 4 punti fissi delle 4 città principali.\n",
        "ax.annotate('Forlì',(y_fixed[0],x_fixed[0]),fontsize=16)\n",
        "ax.annotate('Cesena',(y_fixed[1],x_fixed[1]),fontsize=16)\n",
        "ax.annotate('Ravenna',(y_fixed[2],x_fixed[2]),fontsize=16)\n",
        "ax.annotate('Rimini',(y_fixed[3],x_fixed[3]),fontsize=16)\n",
        "ax.set_xlabel('Longitudine')\n",
        "ax.set_ylabel('Latitudine')\n",
        "ax.legend()"
      ],
      "metadata": {
        "id": "m4piIezPlX0p"
      },
      "execution_count": null,
      "outputs": []
    },
    {
      "cell_type": "markdown",
      "source": [
        "10 - Visualizzazione in mappa reale dei punti e dei cluster"
      ],
      "metadata": {
        "id": "Ax61bPEJnqo5"
      }
    },
    {
      "cell_type": "code",
      "source": [
        "# Set delle variabili utili per la visualizzazione come colori, raggio e coordinate spaziali\n",
        "dataframe[\"color\"] = \"\"\n",
        "dataframe[\"color\"] = color_array[0]\n",
        "for index, elem in enumerate(color_array[0]):\n",
        "  h = elem.lstrip('#')\n",
        "  r = int(h[0:2], 16)\n",
        "  g = int(h[2:4], 16)\n",
        "  b = int(h[4:6], 16)\n",
        "  dataframe[\"color\"][index] = [r,g,b]\n",
        "\n",
        "dataframe['exits_radius'] = \"\"\n",
        "df_cluster['coordinates'] = \"\"\n",
        "dataframe[\"exits_radius\"] = dataframe[\"accessi\"].apply(lambda exits_count: (exits_count/3))\n",
        "for index, row in dataframe.iterrows():\n",
        "  dataframe['coordinates'][index] = [row['Longitudine'],row['Latitudine']]\n",
        "\n",
        "for index, row in df_cluster.iterrows():\n",
        "  df_cluster['coordinates'][index] = [row['long'],row['lat']]"
      ],
      "metadata": {
        "id": "OfSftBpONZnw"
      },
      "execution_count": 11,
      "outputs": []
    },
    {
      "cell_type": "code",
      "source": [
        "#Creazione dei livelli per la visualizzazione sulla mappa\n",
        "# Uno per ogni comune dell'analisi, la cui dimensione della bolla è proporzionale al numero di accessi effettuati in quel comune\n",
        "# In rosso i punti centroidi di ogni cluster\n",
        "layer = pdk.Layer(\n",
        "    \"ScatterplotLayer\",\n",
        "    dataframe,\n",
        "    pickable=True,\n",
        "    opacity=0.5,\n",
        "    stroked=True,\n",
        "    filled=True,\n",
        "    radius_scale=6,\n",
        "    radius_min_pixels=1,\n",
        "    radius_max_pixels=100,\n",
        "    line_width_min_pixels=1,\n",
        "    get_position=\"coordinates\",\n",
        "    get_radius=\"exits_radius\",\n",
        "    get_fill_color=\"color\",\n",
        "    get_line_color=[0, 0, 0],\n",
        ")\n",
        "\n",
        "layer2 = pdk.Layer(\n",
        "    \"ScatterplotLayer\",\n",
        "    df_cluster,\n",
        "    pickable=True,\n",
        "    opacity=1,\n",
        "    stroked=True,\n",
        "    filled=True,\n",
        "    radius_scale=6,\n",
        "    radius_min_pixels=1,\n",
        "    radius_max_pixels=100,\n",
        "    line_width_min_pixels=1,\n",
        "    get_position=\"coordinates\",\n",
        "    get_radius=80,\n",
        "    get_fill_color=[255,10,0],\n",
        "    get_line_color=[0, 0, 0],\n",
        ")\n",
        "\n",
        "# Set the viewport location\n",
        "view_state = pdk.ViewState(latitude=44.263550, longitude=12.347682, zoom=10, bearing=0, pitch=0)\n",
        "# Render\n",
        "r = pdk.Deck(map_style='light',layers=[layer,layer2], initial_view_state=view_state)\n",
        "r.to_html(\"scatterplot_layer.html\")"
      ],
      "metadata": {
        "id": "4dD69THty01d"
      },
      "execution_count": null,
      "outputs": []
    },
    {
      "cell_type": "markdown",
      "source": [
        "## Ora torna al punto 6 cambia il numero di cluster K e verifica come le distanze cambiano."
      ],
      "metadata": {
        "id": "WHSspXMGVMLu"
      }
    },
    {
      "cell_type": "markdown",
      "source": [
        "\n",
        "\n",
        "---\n",
        "\n"
      ],
      "metadata": {
        "id": "c295D_RnSTCw"
      }
    },
    {
      "cell_type": "markdown",
      "source": [
        "### 11 -  Come trovare il numero ottimo di cluster"
      ],
      "metadata": {
        "id": "hmbEnfOgSVUF"
      }
    },
    {
      "cell_type": "code",
      "source": [
        "#Preparazione del dataset con coordinate dei punti e pesi corrispondenti al numero di accessi\n",
        "dataframe_opt = dataframe[['Latitudine','Longitudine']]\n",
        "weight = dataframe_raw['# Accessi']\n",
        "Sum_of_squared_distances = []\n",
        "K = range(1,25)\n",
        "for k in K:\n",
        "    km = KMeans(n_clusters=k,random_state = 4,)\n",
        "    km = km.fit(dataframe_opt,sample_weight=weight)\n",
        "    #Calcolo sommatoria distanze al quadrato tra centroide e punto del cluster\n",
        "    Sum_of_squared_distances.append(km.inertia_)"
      ],
      "metadata": {
        "id": "EEOu3GZxSbNx"
      },
      "execution_count": 14,
      "outputs": []
    },
    {
      "cell_type": "code",
      "source": [
        "#Visualizzazione andamento degli errori al crescere del numero di K\n",
        "plt.plot(K, Sum_of_squared_distances, 'bx-')\n",
        "plt.xlabel('k')\n",
        "plt.ylabel('Sum_of_squared_distances')\n",
        "plt.title('Elbow Method For Optimal k')\n",
        "plt.show()"
      ],
      "metadata": {
        "colab": {
          "base_uri": "https://localhost:8080/",
          "height": 472
        },
        "id": "Qm4pD-TqStfH",
        "outputId": "25850285-0d49-41c8-d88e-246d1535f27c"
      },
      "execution_count": 15,
      "outputs": [
        {
          "output_type": "display_data",
          "data": {
            "text/plain": [
              "<Figure size 640x480 with 1 Axes>"
            ],
            "image/png": "[encoded data removed]"
          },
          "metadata": {}
        }
      ]
    }
  ]
}
